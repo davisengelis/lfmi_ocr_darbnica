{
 "cells": [
  {
   "cell_type": "code",
   "execution_count": 1,
   "id": "4c1d80d5",
   "metadata": {},
   "outputs": [],
   "source": [
    "import pandas as pd"
   ]
  },
  {
   "cell_type": "code",
   "execution_count": 2,
   "id": "29f0b3c6",
   "metadata": {},
   "outputs": [],
   "source": [
    "ocr_kludas = pd.read_excel('ocr_kludas.xlsx')"
   ]
  },
  {
   "cell_type": "code",
   "execution_count": 3,
   "id": "18523c61",
   "metadata": {},
   "outputs": [
    {
     "name": "stdout",
     "output_type": "stream",
     "text": [
      "   nepareizi    pareizi\n",
      "0   vēstūrei   vēsturei\n"
     ]
    }
   ],
   "source": [
    "print(ocr_kludas)"
   ]
  },
  {
   "cell_type": "code",
   "execution_count": 7,
   "id": "646e3c35",
   "metadata": {},
   "outputs": [
    {
     "name": "stdout",
     "output_type": "stream",
     "text": [
      "   nepareizi    pareizi\n",
      "0   vēstūrei   vēsturei\n"
     ]
    },
    {
     "data": {
      "text/plain": [
       "{' vēsturei': ' vēstūrei'}"
      ]
     },
     "execution_count": 7,
     "metadata": {},
     "output_type": "execute_result"
    }
   ],
   "source": [
    "df = pd.DataFrame(ocr_kludas)\n",
    "\n",
    "print(df)\n",
    "\n",
    "pd.Series(df.nepareizi.values,index=df.pareizi).to_dict()"
   ]
  },
  {
   "cell_type": "code",
   "execution_count": 4,
   "id": "0f3e57d3",
   "metadata": {},
   "outputs": [
    {
     "data": {
      "text/plain": [
       "[' vēstūrei']"
      ]
     },
     "execution_count": 4,
     "metadata": {},
     "output_type": "execute_result"
    }
   ],
   "source": [
    "list(ocr_kludas.nepareizi)"
   ]
  }
 ],
 "metadata": {
  "kernelspec": {
   "display_name": "Python 3 (ipykernel)",
   "language": "python",
   "name": "python3"
  },
  "language_info": {
   "codemirror_mode": {
    "name": "ipython",
    "version": 3
   },
   "file_extension": ".py",
   "mimetype": "text/x-python",
   "name": "python",
   "nbconvert_exporter": "python",
   "pygments_lexer": "ipython3",
   "version": "3.9.13"
  }
 },
 "nbformat": 4,
 "nbformat_minor": 5
}
