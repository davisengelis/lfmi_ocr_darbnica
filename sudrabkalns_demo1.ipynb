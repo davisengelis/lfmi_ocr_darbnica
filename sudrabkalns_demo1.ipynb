{
 "cells": [
  {
   "cell_type": "code",
   "execution_count": 1,
   "id": "cd015308",
   "metadata": {},
   "outputs": [],
   "source": [
    "# SAGATAVOJAM NEPIECIEŠAMOS LIBRARIES\n",
    "import pytesseract\n",
    "from PIL import Image\n",
    "import sys"
   ]
  },
  {
   "cell_type": "code",
   "execution_count": 2,
   "id": "77ce0d81",
   "metadata": {},
   "outputs": [],
   "source": [
    "# IESPĒJA APLŪKOT, KĀDĀS VALODĀS IESPĒJAMS VEIKT OCR AR PYTESSERACT\n",
    "#languages = pt.get_languages(config='')\n",
    "#for lang in languages:\n",
    "#    print(lang)"
   ]
  },
  {
   "cell_type": "code",
   "execution_count": 2,
   "id": "cdda150e",
   "metadata": {},
   "outputs": [],
   "source": [
    "# NORĀDĀM, KUR ATRODAS FAILI AR NOFOČĒTO TEKSTU\n",
    "img_file = \"/Users/davisengelis/sudrabkalnfoto/sudrabkalns_23.jpg\"\n",
    "img_try2 = \"/Users/davisengelis/sudrabkalnfoto/sudrabkalns_23_cropped_2.jpg\"\n",
    "img_try3 = \"/Users/davisengelis/sudrabkalnfoto/sudrabkalns_23_cropped_3.jpg\"\n",
    "no_noise2 = \"/Users/davisengelis/sudrabkalnfoto/temps/no_noise.jpg\"\n",
    "no_noise3 = \"/Users/davisengelis/sudrabkalnfoto/temps/no_noise_3.jpg\"\n",
    "raw24 = \"/Users/davisengelis/sudrabkalnfoto/sudrabkalns_24.jpg\"\n",
    "sk24nn = \"/Users/davisengelis/sudrabkalnfoto/temps/no_noise_24.jpg\"\n",
    "sk25nn = \"/Users/davisengelis/sudrabkalnfoto/temps/no_noise_25.jpg\"\n",
    "sk26nn = \"/Users/davisengelis/sudrabkalnfoto/temps/no_noise_26.jpg\"\n",
    "sk26raw = \"/Users/davisengelis/sudrabkalnfoto/sudrabkalns_26_2.jpg\"\n",
    "sk27raw = \"/Users/davisengelis/sudrabkalnfoto/sudrabkalns_27.jpg\"\n",
    "inverted = \"/Users/davisengelis/sudrabkalnfoto/temps/inverted.jpg\"\n",
    "binarized = \"/Users/davisengelis/sudrabkalnfoto/temps/bw_image.jpg\""
   ]
  },
  {
   "cell_type": "code",
   "execution_count": 3,
   "id": "5e6bccdc",
   "metadata": {},
   "outputs": [],
   "source": [
    "# 1. RINDAS IEKAVĀS PASAKĀM, KURAM FAILAM VEIKT OCR\n",
    "img = Image.open(no_noise3)\n",
    "sudrabkalns_config = r'--psm 6'"
   ]
  },
  {
   "cell_type": "code",
   "execution_count": 4,
   "id": "e5387307",
   "metadata": {},
   "outputs": [],
   "source": [
    "# PIEPRASĀM OCR REZULTĀTU, AIZ lang= NORĀDĀM, AR KURU VALODU STRĀDĀJAM\n",
    "ocr_result = pytesseract.image_to_string(img, config=sudrabkalns_config, lang='lav')"
   ]
  },
  {
   "cell_type": "code",
   "execution_count": 5,
   "id": "44dcb42e",
   "metadata": {},
   "outputs": [
    {
     "name": "stdout",
     "output_type": "stream",
     "text": [
      "! I914\n",
      "MĀKSLAS VĒSTULES |\n",
      "| 3+ |\n",
      "Latviešu mūzika vēl jauna gados. Tie, kuru vārdi jau\n",
      "pieder pagātnei, vēstūrei, — vēl tikai pirmie klusuma traucētāji,\n",
      "tautas meldiju krājēji un variēlāji. Latviešu mūzikas lepnuma\n",
      "vārdi visi pieder paaudzei, kas vēl pašlaik tikai sasniegusi savu\n",
      "radīšanas spēku Ziedu laiku. Šī paaudze vēl pati pirmā, rets stāvs\n",
      "aiz viņas izceļas pagātnes krēslā. Viss krāšņums — vēl priekšā,\n",
      "vēl neradīts, pat nenojausts. Par nacionālu bagātību cik necik\n",
      "dziļāku izsmelšanu vēl pāragri runāt, tāpat kā nav vietas runām\n",
      "par jaunā demokrātiskā laika pazīmēm. Kas radīts līdz šim, nes\n",
      "pilnu vienmuļības zieģeli, ko nevar salauzt un izkausēt atsevišķas\n",
      "skaņu liesmas. Ja vokālā mūzika jau samērā plaša, ja viņā ne-\n",
      "trūkst pat brīnišķu ziedu, tad instrumentālā vēl kaunīgi ietveras\n",
      "nedaudzās fragmentārās partitūrās — un garlaicīgās partitūrās.\n",
      "Staigā pa skaņu mežu kā pelēkā miglā, izej ārā — un nav vairs\n",
      "nekā, tik garlaicība un dīvaina tukšuma sajūta. Liekas, ka pat\n",
      "tehniski teorētiskas zināšanas, plaša erudīcija un ilggadēja prak-\n",
      "tika te neko nenozīmētu, nespētu skaņas vienā kopumā saturēt un\n",
      "dvēselēs pārliet. Pārvarēt šo dīvaino tukšuma sajūtu nespēj ne\n",
      "Jurjānu Andrejs ar saviem trokšņiem, ne Alfrēds Kalniņš ar savu\n",
      "vēja kokli, ne labi domājošais Valle, ne profesors Vītols ar savu\n",
      "simetrisko karapulku. Izlec daža pilnskanīga, gavilējoša vai vai-\n",
      "manājoša nots, atvijas daža brīnišķa takts, bet nespēj saplūst\n",
      "vienā spēcīgā, idejas caurstarotā strāvā. Emīls Dārziņš un Niko-\n",
      "lajs Alunāns ir uzrakstījuši simpātiskākās lapas puses mūsu\n",
      "orķestru partitūrās: pirmais ar savu «Melanholisko valsi», otrais\n",
      "ar «Uguns \"un nakts» ilustrācijām. Tiem nu pievienojas Jānis\n",
      "Mediņš ar savu e-moll simfoniju, kuru pirmo reizi izpildīja «Lat-'\n",
      "viešu operas» 7. simfoniskā koncertā.** Spilgti temperamenta meli\n",
      "polifoniskajā audumā, idejisks pamats un teorētiskās zināšanas, '\n",
      "kas dod iespēju izteikties pilnskanīgi un noteikti formulēt gal-\n",
      "veno donu — to mēs prasām no komponista. Mediņa simfonija ir\n",
      "_* «Mākslas vēstules. 1.» (Dzīve, 1914, 29. martā) un «Mākslas vēstules. 3.»\n",
      "(Dzīve, 1914, 3. maijā) veltītas tēlotājmākslas jautājumiem, tādēļ šeit nav\n",
      "ievietotas. ļ\n",
      "** Tolaik utt arī vēlāk, 20.—30. gados, koncertus mēdza numurēt.\n",
      "| : | 28\n",
      "\n"
     ]
    }
   ],
   "source": [
    "# OCR REZULTĀTS PARĀDĀS KĀ OUTPUT\n",
    "print(ocr_result)"
   ]
  },
  {
   "cell_type": "code",
   "execution_count": null,
   "id": "73c1ac34",
   "metadata": {},
   "outputs": [],
   "source": [
    "# OCR_RESULT SAGLABĀŠANA TXT FAILĀ\n",
    "# #source: https://stackoverflow.com/questions/4110891/how-to-redirect-the-output-of-print-to-a-txt-file\n",
    "\n",
    "# 1. RINDĀ JĀNORĀDA, KUR VĒLIES SAGLABĀT FAILU \n",
    "#(WINDOWS LIETOTĀJIEM IEKAVĀS AIZ OPEN LAIKAM BŪTU JĀRAKSTA APMĒRAM TĀ: (\"c:\\\\mans_teksts.txt\")\n",
    "\n",
    "#source: https://stackoverflow.com/questions/4110891/how-to-redirect-the-output-of-print-to-a-txt-file\n",
    "\n",
    "# HARALDAM: VARBŪT VAR VĒL VIENKĀRŠĀK AR KAUT KO ŠĀDU: f=open('file.txt', 'w')?\n",
    "# VAI ŠĀDI: \n",
    "#sys.stdout = open(\"c:\\\\goat.txt\", \"w\")\n",
    "#print (\"test sys.stdout\")\n",
    "\n",
    "with open('/Users/davisengelis/ocr_demo.txt', 'w') as f:\n",
    "    sys.stdout = f\n",
    "    print(ocr_result)"
   ]
  },
  {
   "cell_type": "code",
   "execution_count": null,
   "id": "20a64d35",
   "metadata": {},
   "outputs": [],
   "source": [
    "# DEFIŠU AUTOMĀTISKA NOŅEMŠANA RINDU BEIGĀS, IZTIEKOT BEZ REGEX\n",
    "#source: https://stackoverflow.com/questions/43666790/python-how-do-i-merge-hyphenated-words-with-newlines?rq=1\n",
    "\n",
    "filename = \"/Users/davisengelis/ocr_demo.txt\"\n",
    "\n",
    "with open(filename, encoding=\"utf8\") as f:\n",
    "    lines = [line.strip('\\n') for line in f]\n",
    "    for num, line in enumerate(lines):\n",
    "        if line.endswith('-'):\n",
    "            # the end of the word is at the start of next line\n",
    "            end = lines[num+1].split()[0]\n",
    "            # we remove the - and append the end of the word\n",
    "            lines[num] = line[:-1] + end\n",
    "            # and remove the end of the word and possibly the \n",
    "            # following space from the next line\n",
    "            lines[num+1] = lines[num+1][len(end)+1:]\n",
    "\n",
    "    text = '\\n'.join(lines)\n",
    "\n",
    "with open(filename, \"w\", encoding=\"utf8\") as f:\n",
    "    f.write(text)\n"
   ]
  },
  {
   "cell_type": "code",
   "execution_count": null,
   "id": "131ae8b9",
   "metadata": {},
   "outputs": [],
   "source": [
    "# DEFIŠU AUTOMĀTISKA NOŅEMŠANA RINDU BEIGĀS, IZMANTOJOT REGEX\n",
    "#source: https://stackoverflow.com/questions/43666790/python-how-do-i-merge-hyphenated-words-with-newlines?rq=1\n",
    "\n",
    "filename_ii = \"/Users/davisengelis/ocr_demo_regex.txt\"\n",
    "\n",
    "with open(filename_ii, encoding=\"utf8\") as f:\n",
    "    text = f.read()\n",
    "\n",
    "text = re.sub(r'-\\n(\\w+ *)', r'\\1\\n', text)\n",
    "\n",
    "with open(filename_ii, \"w\", encoding=\"utf8\") as f:\n",
    "        f.write(text)"
   ]
  }
 ],
 "metadata": {
  "kernelspec": {
   "display_name": "Python 3 (ipykernel)",
   "language": "python",
   "name": "python3"
  },
  "language_info": {
   "codemirror_mode": {
    "name": "ipython",
    "version": 3
   },
   "file_extension": ".py",
   "mimetype": "text/x-python",
   "name": "python",
   "nbconvert_exporter": "python",
   "pygments_lexer": "ipython3",
   "version": "3.9.13"
  }
 },
 "nbformat": 4,
 "nbformat_minor": 5
}
